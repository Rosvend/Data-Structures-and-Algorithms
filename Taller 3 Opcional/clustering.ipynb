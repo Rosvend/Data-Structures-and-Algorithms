{
 "cells": [
  {
   "cell_type": "code",
   "execution_count": 11,
   "metadata": {},
   "outputs": [
    {
     "data": {
      "text/html": [
       "<div>\n",
       "<style scoped>\n",
       "    .dataframe tbody tr th:only-of-type {\n",
       "        vertical-align: middle;\n",
       "    }\n",
       "\n",
       "    .dataframe tbody tr th {\n",
       "        vertical-align: top;\n",
       "    }\n",
       "\n",
       "    .dataframe thead th {\n",
       "        text-align: right;\n",
       "    }\n",
       "</style>\n",
       "<table border=\"1\" class=\"dataframe\">\n",
       "  <thead>\n",
       "    <tr style=\"text-align: right;\">\n",
       "      <th></th>\n",
       "      <th>X</th>\n",
       "      <th>Y</th>\n",
       "    </tr>\n",
       "  </thead>\n",
       "  <tbody>\n",
       "    <tr>\n",
       "      <th>0</th>\n",
       "      <td>0.778199</td>\n",
       "      <td>1.013065</td>\n",
       "    </tr>\n",
       "    <tr>\n",
       "      <th>1</th>\n",
       "      <td>1.294406</td>\n",
       "      <td>1.250451</td>\n",
       "    </tr>\n",
       "    <tr>\n",
       "      <th>2</th>\n",
       "      <td>1.147818</td>\n",
       "      <td>0.932589</td>\n",
       "    </tr>\n",
       "    <tr>\n",
       "      <th>3</th>\n",
       "      <td>1.042476</td>\n",
       "      <td>0.875551</td>\n",
       "    </tr>\n",
       "    <tr>\n",
       "      <th>4</th>\n",
       "      <td>0.723326</td>\n",
       "      <td>1.199587</td>\n",
       "    </tr>\n",
       "  </tbody>\n",
       "</table>\n",
       "</div>"
      ],
      "text/plain": [
       "          X         Y\n",
       "0  0.778199  1.013065\n",
       "1  1.294406  1.250451\n",
       "2  1.147818  0.932589\n",
       "3  1.042476  0.875551\n",
       "4  0.723326  1.199587"
      ]
     },
     "execution_count": 11,
     "metadata": {},
     "output_type": "execute_result"
    }
   ],
   "source": [
    "import pandas as pd\n",
    "\n",
    "file_path = r\"C:\\Users\\royda\\OneDrive\\Documentos\\Universidad\\3. Tercer semestre\\Estructuras de datos y algoritmos\\Talleres\\Taller 3 Opcional\\datapoints-k=2-n=200.csv\"\n",
    "df = pd.read_csv(file_path, names=['X', 'Y'])\n",
    "df.head()\n"
   ]
  },
  {
   "cell_type": "code",
   "execution_count": 13,
   "metadata": {},
   "outputs": [],
   "source": [
    "#find euclidean distance between all points\n",
    "def euclidean_distance(x1, y1, x2, y2):\n",
    "    return ((x1 - x2) ** 2 + (y1 - y2) ** 2) ** 0.5\n",
    "\n",
    "#find the closest centroid for each point\n",
    "def closest_centroid(x, y, centroids):\n",
    "    closest = None\n",
    "    min_distance = float('inf')\n",
    "    for i, (cx, cy) in enumerate(centroids):\n",
    "        distance = euclidean_distance(x, y, cx, cy)\n",
    "        if distance < min_distance:\n",
    "            min_distance = distance\n",
    "            closest = i\n",
    "    return closest\n",
    "\n",
    "#find the new centroids\n",
    "def new_centroids(df, centroids):\n",
    "    new_centroids = []\n",
    "    for i, _ in enumerate(centroids):\n",
    "        x = df[df['closest'] == i]['X'].mean()\n",
    "        y = df[df['closest'] == i]['Y'].mean()\n",
    "        new_centroids.append((x, y))\n",
    "    return new_centroids\n",
    "\n",
    "#initialize centroids\n",
    "k = 2\n",
    "centroids = df.sample(k)\n",
    "centroids = [(x, y) for x, y in zip(centroids['X'], centroids['Y'])]"
   ]
  }
 ],
 "metadata": {
  "kernelspec": {
   "display_name": "Python 3",
   "language": "python",
   "name": "python3"
  },
  "language_info": {
   "codemirror_mode": {
    "name": "ipython",
    "version": 3
   },
   "file_extension": ".py",
   "mimetype": "text/x-python",
   "name": "python",
   "nbconvert_exporter": "python",
   "pygments_lexer": "ipython3",
   "version": "3.12.1"
  }
 },
 "nbformat": 4,
 "nbformat_minor": 2
}
